{
 "cells": [
  {
   "cell_type": "markdown",
   "metadata": {},
   "source": [
    "# Heatmap for Single Gene"
   ]
  },
  {
   "cell_type": "code",
   "execution_count": 1,
   "metadata": {
    "collapsed": false
   },
   "outputs": [
    {
     "data": {
      "image/png": "[encoded data removed]",
      "text/plain": [
       "<matplotlib.figure.Figure at 0x10eb1b748>"
      ]
     },
     "metadata": {},
     "output_type": "display_data"
    }
   ],
   "source": [
    "import numpy as np\n",
    "import numpy.random\n",
    "import matplotlib.pyplot as plt\n",
    "\n",
    "# Generate some test data\n",
    "x = np.random.randn(8873)\n",
    "y = np.random.randn(8873)\n",
    "\n",
    "heatmap, xedges, yedges = np.histogram2d(x, y, bins=50)\n",
    "extent = [xedges[0], xedges[-1], yedges[0], yedges[-1]]\n",
    "\n",
    "plt.clf()\n",
    "plt.imshow(heatmap.T, extent=extent, origin='lower')\n",
    "plt.show()"
   ]
  },
  {
   "cell_type": "markdown",
   "metadata": {},
   "source": [
    "The previous bit of code is to make sure that the Heatmap plots in my Python 3 notebook."
   ]
  },
  {
   "cell_type": "code",
   "execution_count": 38,
   "metadata": {
    "collapsed": false
   },
   "outputs": [
    {
     "data": {
      "image/png": "[encoded data removed]",
      "text/plain": [
       "<matplotlib.figure.Figure at 0x114b3fc18>"
      ]
     },
     "metadata": {},
     "output_type": "display_data"
    }
   ],
   "source": [
    "import numpy as np\n",
    "import numpy.random\n",
    "import matplotlib.pyplot as plt\n",
    "import csv\n",
    "\n",
    "aortaData = []\n",
    "aa1 = []\n",
    "aa2 = []\n",
    "aa3 = []\n",
    "aa4 = []\n",
    "aa5 = []\n",
    "with open (\"genomicdata.csv\") as csvfile:\n",
    "    readCSV = csv.reader(csvfile, delimiter= '\\t') #gives access to the CSV file\n",
    "    for col in readCSV:\n",
    "        if col[7] == '':\n",
    "            aortaData.append('0')\n",
    "        else:\n",
    "            aortaData.append(col[7]) #save the data from the side \n",
    "    #need smaller arrays\n",
    "    #Each array needs 5 elements\n",
    "    aa1 = list(map(float, aortaData[1:6]))\n",
    "    aa2 = list(map(float, aortaData[6:11]))\n",
    "    aa3 = list(map(float, aortaData[11:16]))\n",
    "    aa4 = list(map(float, aortaData[16:21]))\n",
    "    aa5 = list(map(float, aortaData[21:26]))\n",
    "\n",
    "# Generate some test data\n",
    "x = np.random.randn(8873)\n",
    "y = np.random.randn(8873)\n",
    "\n",
    "heatmap, xedges, yedges = np.histogram2d(x, y, bins=5) #if array is 5x5 (has 25 components), need 5 bins\n",
    "extent = [xedges[0], xedges[-1], yedges[0], yedges[-1]]\n",
    "\n",
    "plt.clf()\n",
    "plt.imshow(heatmap.T, extent=extent, origin='lower')\n",
    "plt.colorbar()\n",
    "plt.show()"
   ]
  },
  {
   "cell_type": "markdown",
   "metadata": {},
   "source": [
    "In the code above, I created a heatmap using the code from the heatmap above ( http://stackoverflow.com/questions/2369492/generate-a-heatmap-in-matplotlib-using-a-scatter-data-set ) and from the data of some of the expression vectors for genes in cells in the aorta."
   ]
  },
  {
   "cell_type": "code",
   "execution_count": 28,
   "metadata": {
    "collapsed": false
   },
   "outputs": [
    {
     "data": {
      "image/png": "[encoded data removed]",
      "text/plain": [
       "<matplotlib.figure.Figure at 0x1152da0f0>"
      ]
     },
     "metadata": {},
     "output_type": "display_data"
    }
   ],
   "source": [
    "import matplotlib.pyplot as plt\n",
    "import numpy as np\n",
    "\n",
    "aortaData = []\n",
    "aa1 = []\n",
    "aa2 = []\n",
    "aa3 = []\n",
    "aa4 = []\n",
    "aa5 = []\n",
    "with open (\"genomicdata.csv\") as csvfile:\n",
    "    readCSV = csv.reader(csvfile, delimiter= '\\t') #gives access to the CSV file\n",
    "    for col in readCSV:\n",
    "        if col[7] == '':\n",
    "            aortaData.append('0')\n",
    "        else:\n",
    "            aortaData.append(col[7]) #save the data from the side \n",
    "    #need smaller arrays\n",
    "    #Each array needs 5 elements\n",
    "    aa1 = list(map(float, aortaData[1:6]))\n",
    "    aa2 = list(map(float, aortaData[6:11]))\n",
    "    aa3 = list(map(float, aortaData[11:16]))\n",
    "    aa4 = list(map(float, aortaData[16:21]))\n",
    "    aa5 = list(map(float, aortaData[21:26]))\n",
    "\n",
    "x = [1, 2, 3, 4, 5]\n",
    "y = [0.1, 0.2, 0.3, 0.4, 0.5]\n",
    "\n",
    "#take the 5 small arrays\n",
    "intensity = [\n",
    "    aa1,\n",
    "    aa2,\n",
    "    aa3,\n",
    "    aa4,\n",
    "    aa5\n",
    "]\n",
    "\n",
    "#setup the 2D grid with Numpy\n",
    "x, y = np.meshgrid(x, y)\n",
    "\n",
    "#convert intensity (list of lists) to a numpy array for plotting\n",
    "intensity = np.array(intensity)\n",
    "\n",
    "plt.pcolormesh(x, y, intensity) #plots the intensity on the grid with colors\n",
    "plt.colorbar() #colors are set from the colorbar. The colorbar shows the intensity \n",
    "plt.show() "
   ]
  },
  {
   "cell_type": "markdown",
   "metadata": {},
   "source": [
    "https://stackoverflow.com/questions/33282368/plotting-a-2d-heatmap-with-matplotlib"
   ]
  },
  {
   "cell_type": "code",
   "execution_count": 20,
   "metadata": {
    "collapsed": false
   },
   "outputs": [
    {
     "data": {
      "image/png": "[encoded data removed]",
      "text/plain": [
       "<matplotlib.figure.Figure at 0x110f501d0>"
      ]
     },
     "metadata": {},
     "output_type": "display_data"
    }
   ],
   "source": [
    "import matplotlib.pyplot as plt\n",
    "import numpy as np\n",
    "\n",
    "#here's our data to plot, all normal Python lists\n",
    "x = [1, 2, 3, 4, 5]\n",
    "y = [0.1, 0.2, 0.3, 0.4, 0.5]\n",
    "\n",
    "intensity = [\n",
    "    [3, 0, 20, 2, .6],\n",
    "    [4, 33, 13, 2, 5],\n",
    "    [.6, 1, 9, 10, 10],\n",
    "    [0, 7, 0, 6, 4],\n",
    "    [18, 15, 94, 0, 0]\n",
    "]\n",
    "\n",
    "#setup the 2D grid with Numpy\n",
    "x, y = np.meshgrid(x, y)\n",
    "\n",
    "#convert intensity (list of lists) to a numpy array for plotting\n",
    "intensity = np.array(intensity)\n",
    "\n",
    "#now just plug the data into pcolormesh, it's that easy!\n",
    "plt.pcolormesh(x, y, intensity)\n",
    "plt.colorbar() #need a colorbar to show the intensity scale\n",
    "plt.show() #boom"
   ]
  },
  {
   "cell_type": "markdown",
   "metadata": {},
   "source": [
    "This is a test to manually see how the heat map should be expressed. I took the array from the previous example, and wrote it out manually to test how the data will be expressed.\n",
    "http://seaborn.pydata.org/generated/seaborn.heatmap.html"
   ]
  },
  {
   "cell_type": "code",
   "execution_count": 30,
   "metadata": {
    "collapsed": false
   },
   "outputs": [
    {
     "data": {
      "image/png": "[encoded data removed]",
      "text/plain": [
       "<matplotlib.figure.Figure at 0x10a1c19b0>"
      ]
     },
     "metadata": {},
     "output_type": "display_data"
    }
   ],
   "source": [
    "import matplotlib.pyplot as plt\n",
    "import numpy as np\n",
    "\n",
    "aortaData = []\n",
    "aa1 = []\n",
    "aa2 = []\n",
    "aa3 = []\n",
    "aa4 = []\n",
    "aa5 = []\n",
    "aa6 = []\n",
    "aa7 = []\n",
    "aa8 = []\n",
    "aa9 = []\n",
    "aa10 = []\n",
    "with open (\"genomicdata.csv\") as csvfile:\n",
    "    readCSV = csv.reader(csvfile, delimiter= '\\t') #gives access to the CSV file\n",
    "    for col in readCSV:\n",
    "        if col[7] == '':\n",
    "            aortaData.append('0')\n",
    "        else:\n",
    "            aortaData.append(col[7]) #save the data from the side \n",
    "    #need smaller arrays\n",
    "    #Each array needs 5 elements\n",
    "    aa1 = list(map(float, aortaData[1:11]))\n",
    "    aa2 = list(map(float, aortaData[11:21]))\n",
    "    aa3 = list(map(float, aortaData[21:31]))\n",
    "    aa4 = list(map(float, aortaData[31:41]))\n",
    "    aa5 = list(map(float, aortaData[41:51]))\n",
    "    aa6 = list(map(float, aortaData[51:61]))\n",
    "    aa7 = list(map(float, aortaData[61:71]))\n",
    "    aa8 = list(map(float, aortaData[71:81]))\n",
    "    aa9 = list(map(float, aortaData[81:91]))\n",
    "    aa10 = list(map(float, aortaData[91:101]))\n",
    "\n",
    "x = [1, 2, 3, 4, 5, 6, 7, 8, 9, 10]\n",
    "y = [0.1, 0.2, 0.3, 0.4, 0.5, 0.6, 0.7, 0.8, 0.9, 1.0]\n",
    "\n",
    "#take the 10 small arrays\n",
    "intensity = [\n",
    "    aa1,\n",
    "    aa2,\n",
    "    aa3,\n",
    "    aa4,\n",
    "    aa5,\n",
    "    aa6,\n",
    "    aa7,\n",
    "    aa8,\n",
    "    aa9,\n",
    "    aa10\n",
    "]\n",
    "\n",
    "#setup the 2D grid with Numpy\n",
    "x, y = np.meshgrid(x, y)\n",
    "\n",
    "#convert intensity (list of lists) to a numpy array for plotting\n",
    "intensity = np.array(intensity)\n",
    "\n",
    "plt.pcolormesh(x, y, intensity) #plots the intensity on the grid with colors\n",
    "plt.colorbar() #colors are set from the colorbar. The colorbar shows the intensity \n",
    "plt.show() "
   ]
  },
  {
   "cell_type": "code",
   "execution_count": null,
   "metadata": {
    "collapsed": true
   },
   "outputs": [],
   "source": []
  }
 ],
 "metadata": {
  "kernelspec": {
   "display_name": "Python 3",
   "language": "python",
   "name": "python3"
  },
  "language_info": {
   "codemirror_mode": {
    "name": "ipython",
    "version": 3
   },
   "file_extension": ".py",
   "mimetype": "text/x-python",
   "name": "python",
   "nbconvert_exporter": "python",
   "pygments_lexer": "ipython3",
   "version": "3.6.0"
  }
 },
 "nbformat": 4,
 "nbformat_minor": 2
}
