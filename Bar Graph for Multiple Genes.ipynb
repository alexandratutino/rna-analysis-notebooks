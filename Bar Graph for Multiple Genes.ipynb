{
 "cells": [
  {
   "cell_type": "markdown",
   "metadata": {},
   "source": [
    "# Bar Graph for Multiple Genes given from RNA Sequencing"
   ]
  },
  {
   "cell_type": "code",
   "execution_count": 33,
   "metadata": {
    "collapsed": false
   },
   "outputs": [
    {
     "data": {
      "image/png": "[encoded data removed]",
      "text/plain": [
       "<matplotlib.figure.Figure at 0x114a9af60>"
      ]
     },
     "metadata": {},
     "output_type": "display_data"
    }
   ],
   "source": [
    "import numpy as np\n",
    "import matplotlib.pyplot as plt\n",
    "import csv\n",
    "aortaData = [] \n",
    "aortaDataNumbers = []\n",
    "cerebellumData = []\n",
    "cerebellumDataNumbers= []\n",
    "arteryData = []\n",
    "arteryDataNumbers = []\n",
    "with open (\"genomicdata.csv\") as csvfile:\n",
    "    readCSV = csv.reader(csvfile, delimiter= '\\t') #gives access to the CSV file\n",
    "\n",
    "    for col in readCSV:\n",
    "        if col[7] == '':\n",
    "            aortaData.append('0')\n",
    "        else:\n",
    "            aortaData.append(col[7])\n",
    "        if col[13] == '': #cerebellum\n",
    "            cerebellumData.append('0')\n",
    "        else:\n",
    "            cerebellumData.append(col[13])\n",
    "        if col[15] == '': #coronary artery\n",
    "            arteryData.append('0')\n",
    "        else:\n",
    "            arteryData.append(col[15])\n",
    "    aortaDataNumbers = list(map(float, aortaData[19:24]))\n",
    "    cerebellumDataNumbers = list(map(float, cerebellumData[19:24]))\n",
    "    arteryDataNumbers = list(map(float, arteryData[19:24]))\n",
    "    \n",
    "ind = np.arange(len(aortaDataNumbers))  # the x locations for the groups\n",
    "width = 0.35       # the width of the bars\n",
    "\n",
    "fig, ax = plt.subplots()\n",
    "rects1 = ax.bar(ind, aortaDataNumbers, width, color='r') #creates rectangles\n",
    "rects2 = ax.bar(ind+width, cerebellumDataNumbers, width, color='g') #creates rectangles\n",
    "rects3 = ax.bar(ind+width*2, arteryDataNumbers, width, color='b') #creates rectangles\n",
    "\n",
    "ax.set_ylabel('Expression Vector') #Y axis label\n",
    "ax.set_title('Gene Expressed') #X axis label\n",
    "ax.set_xticks(ind + width) #the distance between each bar\n",
    "\n",
    "\n",
    "# ax.legend((rects1[0]), ('Expression Vector of Each Gene Expressed in the Aorta')) #Creates a legend so people know\n",
    "#what they are looking at\n",
    "\n",
    "\n",
    "def autolabel(rects): #creates a different label for each bar to show the height\n",
    "    for rect in rects:\n",
    "        height = rect.get_height() #height of each bar\n",
    "        ax.text(rect.get_x() + rect.get_width()/2., 1.05*height,\n",
    "                '%d' % int(height),\n",
    "                ha='center', va='bottom') #gives the value \n",
    "\n",
    "\n",
    "plt.show()\n",
    "\n"
   ]
  },
  {
   "cell_type": "markdown",
   "metadata": {},
   "source": [
    "In this code, I combined what I worked on last week (creating a gene expression bar chart) with the task for this week (creating a gene expression bar chart for multiple genes). The three tissues I chose were the cerebellum, the coronary artery, and the aorta. I originally decided to do a bar chart with two tissues: the cerebellum and the coronary artery. I selected a random set of genes (19-24) to see how tissues differ. After graphing these genes for the cerebellum and the coronary artery, that the expression vectors for all the genes minus the last one (ENSG00000002549 LAP3), the expressions were relatively the same. For ENSG00000002549 LAP3 however, the the coronary artery had signifcantly higher expression for the gene in comparison to the cerebellum. Because of this, I decided to add in the gene expression vectors for the same set of genes for the aorta since the aorta and the coronary artery are both a part of the cardiovascular system. Like I predicted, the aorta also has a significantly higher expression vector for this gene."
   ]
  },
  {
   "cell_type": "code",
   "execution_count": 37,
   "metadata": {
    "collapsed": false
   },
   "outputs": [
    {
     "data": {
      "image/png": "[encoded data removed]",
      "text/plain": [
       "<matplotlib.figure.Figure at 0x114566f28>"
      ]
     },
     "metadata": {},
     "output_type": "display_data"
    }
   ],
   "source": [
    "import numpy as np\n",
    "import matplotlib.pyplot as plt\n",
    "import csv\n",
    "aortaData = [] \n",
    "aortaDataNumbers = []\n",
    "cerebellumData = []\n",
    "cerebellumDataNumbers= []\n",
    "arteryData = []\n",
    "arteryDataNumbers = []\n",
    "with open (\"genomicdata.csv\") as csvfile:\n",
    "    readCSV = csv.reader(csvfile, delimiter= '\\t') #gives access to the CSV file\n",
    "\n",
    "    for col in readCSV:\n",
    "        if col[7] == '':\n",
    "            aortaData.append('0')\n",
    "        else:\n",
    "            aortaData.append(col[7])\n",
    "        if col[13] == '': #cerebellum\n",
    "            cerebellumData.append('0')\n",
    "        else:\n",
    "            cerebellumData.append(col[13])\n",
    "        if col[15] == '': #coronary artery\n",
    "            arteryData.append('0')\n",
    "        else:\n",
    "            arteryData.append(col[15])\n",
    "    aortaDataNumbers = list(map(float, aortaData[73:80]))\n",
    "    cerebellumDataNumbers = list(map(float, cerebellumData[73:80]))\n",
    "    arteryDataNumbers = list(map(float, arteryData[73:80]))\n",
    "    \n",
    "ind = np.arange(len(aortaDataNumbers))  # the x locations for the groups\n",
    "width = 0.35       # the width of the bars\n",
    "\n",
    "fig, ax = plt.subplots()\n",
    "rects1 = ax.bar(ind, aortaDataNumbers, width, color='r') #creates rectangles\n",
    "rects2 = ax.bar(ind+width, cerebellumDataNumbers, width, color='g') #creates rectangles\n",
    "rects3 = ax.bar(ind+width*2, arteryDataNumbers, width, color='b') #creates rectangles\n",
    "\n",
    "ax.set_ylabel('Expression Vector') #Y axis label\n",
    "ax.set_title('Gene Expressed') #X axis label\n",
    "ax.set_xticks(ind + width) #the distance between each bar\n",
    "\n",
    "\n",
    "\n",
    "def autolabel(rects): #creates a different label for each bar to show the height\n",
    "    for rect in rects:\n",
    "        height = rect.get_height() #height of each bar\n",
    "        ax.text(rect.get_x() + rect.get_width()/2., 1.05*height,\n",
    "                '%d' % int(height),\n",
    "                ha='center', va='bottom') #gives the value \n",
    "\n",
    "\n",
    "plt.show()"
   ]
  },
  {
   "cell_type": "markdown",
   "metadata": {},
   "source": [
    "In this graph, along with upcoming graphs, I chose a gene that the cerebellum had a significantly high expression for. This gene, number 75 in the array, proved my previous prediction wrong since the cerebellum, the coronary artery, and the aorta all showed significantly higher gene expressions for this gene."
   ]
  },
  {
   "cell_type": "code",
   "execution_count": 47,
   "metadata": {
    "collapsed": false
   },
   "outputs": [
    {
     "data": {
      "image/png": "[encoded data removed]",
      "text/plain": [
       "<matplotlib.figure.Figure at 0x11441f0b8>"
      ]
     },
     "metadata": {},
     "output_type": "display_data"
    }
   ],
   "source": [
    "import numpy as np\n",
    "import matplotlib.pyplot as plt\n",
    "import csv\n",
    "aortaData = [] \n",
    "aortaDataNumbers = []\n",
    "cerebellumData = []\n",
    "cerebellumDataNumbers= []\n",
    "arteryData = []\n",
    "arteryDataNumbers = []\n",
    "with open (\"genomicdata.csv\") as csvfile:\n",
    "    readCSV = csv.reader(csvfile, delimiter= '\\t') #gives access to the CSV file\n",
    "\n",
    "    for col in readCSV:\n",
    "        if col[7] == '':\n",
    "            aortaData.append('0')\n",
    "        else:\n",
    "            aortaData.append(col[7])\n",
    "        if col[13] == '': #cerebellum\n",
    "            cerebellumData.append('0')\n",
    "        else:\n",
    "            cerebellumData.append(col[13])\n",
    "        if col[15] == '': #coronary artery\n",
    "            arteryData.append('0')\n",
    "        else:\n",
    "            arteryData.append(col[15])\n",
    "    aortaDataNumbers = list(map(float, aortaData[722:727]))\n",
    "    cerebellumDataNumbers = list(map(float, cerebellumData[722:727]))\n",
    "    arteryDataNumbers = list(map(float, arteryData[722:727]))\n",
    "    \n",
    "\n",
    "ind = np.arange(len(aortaDataNumbers))  # the x locations for the groups\n",
    "width = 0.35       # the width of the bars\n",
    "\n",
    "fig, ax = plt.subplots()\n",
    "rects1 = ax.bar(ind, aortaDataNumbers, width, color='r') #creates rectangles for aorta\n",
    "rects2 = ax.bar(ind+width, cerebellumDataNumbers, width, color='g') #creates rectangles for cerebellum\n",
    "rects3 = ax.bar(ind+width*2, arteryDataNumbers, width, color='b') #creates rectangles for coronary artery\n",
    "\n",
    "ax.set_ylabel('Expression Vector') #Y axis label\n",
    "ax.set_title('Gene Expressed') #X axis label\n",
    "ax.set_xticks(ind + width) #the distance between each bar\n",
    "\n",
    "\n",
    "def autolabel(rects): #creates a different label for each bar to show the height\n",
    "    for rect in rects:\n",
    "        height = rect.get_height() #height of each bar\n",
    "        ax.text(rect.get_x() + rect.get_width()/2., 1.05*height,\n",
    "                '%d' % int(height),\n",
    "                ha='center', va='bottom') #gives the value \n",
    "\n",
    "\n",
    "plt.show()"
   ]
  },
  {
   "cell_type": "markdown",
   "metadata": {},
   "source": [
    "This graph shows two different things. \n",
    "\n",
    "The first is what I was expecting in the previous graph. For the gene in spot 722 in the array, the Expression vector for the cerebellum is high, whereas there is no expression vector for the gene in both the coronary artery and for the aorta.\n",
    "\n",
    "The second is something that I thought of after the results given in the previous graph. For the gene in spot 725 in the array, the gene expression vector for the aorta is significantly higher than the gene expression vector for the coronary artery."
   ]
  },
  {
   "cell_type": "code",
   "execution_count": null,
   "metadata": {
    "collapsed": true
   },
   "outputs": [],
   "source": []
  }
 ],
 "metadata": {
  "kernelspec": {
   "display_name": "Python 3",
   "language": "python",
   "name": "python3"
  },
  "language_info": {
   "codemirror_mode": {
    "name": "ipython",
    "version": 3
   },
   "file_extension": ".py",
   "mimetype": "text/x-python",
   "name": "python",
   "nbconvert_exporter": "python",
   "pygments_lexer": "ipython3",
   "version": "3.6.0"
  }
 },
 "nbformat": 4,
 "nbformat_minor": 2
}
